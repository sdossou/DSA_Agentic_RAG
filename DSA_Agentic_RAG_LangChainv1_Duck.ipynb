{
  "nbformat": 4,
  "nbformat_minor": 0,
  "metadata": {
    "colab": {
      "provenance": [],
      "include_colab_link": true
    },
    "kernelspec": {
      "name": "python3",
      "display_name": "Python 3"
    },
    "language_info": {
      "name": "python"
    }
  },
  "cells": [
    {
      "cell_type": "markdown",
      "metadata": {
        "id": "view-in-github",
        "colab_type": "text"
      },
      "source": [
        "<a href=\"https://colab.research.google.com/github/sdossou/DSA_Agentic_RAG/blob/main/DSA_Agentic_RAG_LangChainv1_Duck.ipynb\" target=\"_parent\"><img src=\"https://colab.research.google.com/assets/colab-badge.svg\" alt=\"Open In Colab\"/></a>"
      ]
    },
    {
      "cell_type": "markdown",
      "source": [
        "# DSA Agentic RAG Powered by LangChain\n",
        "\n",
        "This notebook builds a DSA Agentic RAG Applications with LangChain.\n",
        "\n",
        "The tools used are listed below:\n",
        "\n",
        "1. LangChain - more specifically LCEL\n",
        "2. LangGraph\n",
        "3. LangSmith\n",
        "\n"
      ],
      "metadata": {
        "id": "gJXW_DgiSebM"
      }
    },
    {
      "cell_type": "markdown",
      "source": [
        "## Dependencies\n",
        "\n",
        "Installing relevant dependencies."
      ],
      "metadata": {
        "id": "3_fLDElOVoop"
      }
    },
    {
      "cell_type": "code",
      "execution_count": null,
      "metadata": {
        "id": "KaVwN269EttM"
      },
      "outputs": [],
      "source": [
        "!pip install -qU langchain langchain_openai langgraph arxiv duckduckgo-search"
      ]
    },
    {
      "cell_type": "code",
      "source": [
        "!pip install -qU faiss-cpu pymupdf"
      ],
      "metadata": {
        "id": "UBvTZ-JshKuo"
      },
      "execution_count": null,
      "outputs": []
    },
    {
      "cell_type": "markdown",
      "source": [
        "## Environment Variables\n",
        "\n",
        "Setting up API keys for openAI and LangSmith."
      ],
      "metadata": {
        "id": "wujPjGJuoPwg"
      }
    },
    {
      "cell_type": "code",
      "source": [
        "import os\n",
        "import getpass\n",
        "\n",
        "os.environ[\"OPENAI_API_KEY\"] = getpass.getpass(\"OpenAI API Key:\")"
      ],
      "metadata": {
        "colab": {
          "base_uri": "https://localhost:8080/"
        },
        "id": "Jdh8CoVWHRvs",
        "outputId": "d6943e81-cfe3-4e95-f3e3-2b7d5d408820"
      },
      "execution_count": null,
      "outputs": [
        {
          "name": "stdout",
          "output_type": "stream",
          "text": [
            "OpenAI API Key:··········\n"
          ]
        }
      ]
    },
    {
      "cell_type": "code",
      "source": [
        "from uuid import uuid4\n",
        "\n",
        "os.environ[\"LANGCHAIN_TRACING_V2\"] = \"true\"\n",
        "os.environ[\"LANGCHAIN_PROJECT\"] = f\"AIE1 - LangGraph - {uuid4().hex[0:8]}\"\n",
        "os.environ[\"LANGCHAIN_API_KEY\"] = getpass.getpass(\"LangSmith API Key: \")"
      ],
      "metadata": {
        "colab": {
          "base_uri": "https://localhost:8080/"
        },
        "id": "Nv0glIDyHmRt",
        "outputId": "50344ec1-9e20-4bb1-ce46-89314854ce1f"
      },
      "execution_count": null,
      "outputs": [
        {
          "name": "stdout",
          "output_type": "stream",
          "text": [
            "LangSmith API Key: ··········\n"
          ]
        }
      ]
    },
    {
      "cell_type": "markdown",
      "source": [
        "## Initialise a Simple Chain using LCEL\n"
      ],
      "metadata": {
        "id": "5-CufnKBfFMq"
      }
    },
    {
      "cell_type": "markdown",
      "source": [
        "### Retrieval\n",
        "\n",
        "Setting up a local retriever system that looks at Arxiv papers on the topic of the DSA."
      ],
      "metadata": {
        "id": "VnuLQnqzg0DZ"
      }
    },
    {
      "cell_type": "code",
      "source": [
        "from langchain.text_splitter import RecursiveCharacterTextSplitter\n",
        "from langchain_community.document_loaders import ArxivLoader\n",
        "from langchain_community.vectorstores import FAISS\n",
        "from langchain_openai import OpenAIEmbeddings\n",
        "\n",
        "docs = ArxivLoader(query=\"Digital Services Act\", load_max_docs=5).load()\n",
        "\n",
        "text_splitter = RecursiveCharacterTextSplitter.from_tiktoken_encoder(\n",
        "    chunk_size=350, chunk_overlap=50\n",
        ")\n",
        "\n",
        "chunked_documents = text_splitter.split_documents(docs)\n",
        "\n",
        "faiss_vectorstore = FAISS.from_documents(\n",
        "    documents=chunked_documents,\n",
        "    embedding=OpenAIEmbeddings(model=\"text-embedding-3-small\"),\n",
        ")\n",
        "\n",
        "retriever = faiss_vectorstore.as_retriever()"
      ],
      "metadata": {
        "id": "g8rnnJbJg8sB"
      },
      "execution_count": null,
      "outputs": []
    },
    {
      "cell_type": "markdown",
      "source": [
        "### Augmented\n",
        "\n",
        "Creating the RAG prompt."
      ],
      "metadata": {
        "id": "A-rSWYKjinCA"
      }
    },
    {
      "cell_type": "code",
      "source": [
        "from langchain_core.prompts import ChatPromptTemplate\n",
        "\n",
        "RAG_PROMPT = \"\"\"\\\n",
        "Use the following context to answer the user's query. If you cannot answer the question, please respond with 'I don't know'.\n",
        "\n",
        "Question:\n",
        "{question}\n",
        "\n",
        "Context:\n",
        "{context}\n",
        "\"\"\"\n",
        "\n",
        "rag_prompt = ChatPromptTemplate.from_template(RAG_PROMPT)"
      ],
      "metadata": {
        "id": "gZudebB0it20"
      },
      "execution_count": null,
      "outputs": []
    },
    {
      "cell_type": "markdown",
      "source": [
        "### Generation\n",
        "\n",
        "Initialising the model using OpenAI's `gpt-3.5-turbo` model."
      ],
      "metadata": {
        "id": "OPVEVKmPfoYs"
      }
    },
    {
      "cell_type": "code",
      "source": [
        "from langchain_openai import ChatOpenAI\n",
        "\n",
        "openai_chat_model = ChatOpenAI(model=\"gpt-3.5-turbo\")"
      ],
      "metadata": {
        "id": "iAU6ilyPfufs"
      },
      "execution_count": null,
      "outputs": []
    },
    {
      "cell_type": "markdown",
      "source": [
        "### LCEL RAG Chain\n",
        "\n",
        "Building the RAG chain."
      ],
      "metadata": {
        "id": "mhxJkDIujhC-"
      }
    },
    {
      "cell_type": "code",
      "source": [
        "from operator import itemgetter\n",
        "from langchain.schema.output_parser import StrOutputParser\n",
        "from langchain.schema.runnable import RunnablePassthrough\n",
        "\n",
        "retrieval_augmented_generation_chain = (\n",
        "    # INVOKE CHAIN WITH: {\"question\" : \"<<SOME USER QUESTION>>\"}\n",
        "    # \"question\" : populated by getting the value of the \"question\" key\n",
        "    # \"context\"  : populated by getting the value of the \"question\" key and chaining it into the base_retriever\n",
        "    {\"context\": itemgetter(\"question\") | retriever, \"question\": itemgetter(\"question\")}\n",
        "    # \"context\"  : is assigned to a RunnablePassthrough object (will not be called or considered in the next step)\n",
        "    #              by getting the value of the \"context\" key from the previous step\n",
        "    | RunnablePassthrough.assign(context=itemgetter(\"context\"))\n",
        "    # \"response\" : the \"context\" and \"question\" values are used to format our prompt object and then piped\n",
        "    #              into the LLM and stored in a key called \"response\"\n",
        "    # \"context\"  : populated by getting the value of the \"context\" key from the previous step\n",
        "    | {\"response\": rag_prompt | openai_chat_model, \"context\": itemgetter(\"context\")}\n",
        ")"
      ],
      "metadata": {
        "id": "Z4itzKufj-OI"
      },
      "execution_count": null,
      "outputs": []
    },
    {
      "cell_type": "markdown",
      "source": [
        "Testing the Chain."
      ],
      "metadata": {
        "id": "t4vr1n-7kN-y"
      }
    },
    {
      "cell_type": "code",
      "source": [
        "await retrieval_augmented_generation_chain.ainvoke({\"question\" : \"What is the Digital Services Act?\"})"
      ],
      "metadata": {
        "colab": {
          "base_uri": "https://localhost:8080/"
        },
        "id": "ocoqybsjkPXz",
        "outputId": "a28e59f1-3bb8-4618-a6ae-5e487c13d3d1"
      },
      "execution_count": null,
      "outputs": [
        {
          "output_type": "execute_result",
          "data": {
            "text/plain": [
              "{'response': AIMessage(content='The Digital Services Act is a legal proposal launched by the European Commission as part of the platform governance regulation. It aims to regulate platform accountability and content moderation for companies above certain size thresholds.', response_metadata={'token_usage': {'completion_tokens': 37, 'prompt_tokens': 2526, 'total_tokens': 2563}, 'model_name': 'gpt-3.5-turbo', 'system_fingerprint': 'fp_3bc1b5746c', 'finish_reason': 'stop', 'logprobs': None}),\n",
              " 'context': [Document(page_content='applicable legal standards in the ﬁeld of labour and consumer law.\\nCCS Concepts: • Social and professional topics →Governmental regulations.\\nAdditional Key Words and Phrases: Legal Compliance API, Digital Services Act, social media platforms, monetization\\nACM Reference Format:\\nCatalina Goanta, Thales Bertaglia, and Adriana Iamnitchi. 2022. The Case for a Legal Compliance API for the Enforcement of the EU’s\\nDigital Services Act on Social Media Platforms. In 2022 ACM Conference on Fairness, Accountability, and Transparency (FAccT ’22), June\\n21–24, 2022, Seoul, Republic of Korea. ACM, New York, NY, USA, Article 111, 14 pages. https://doi.org/10.1145/3531146.3533190\\n1\\nINTRODUCTION\\nIn the European Union, platform governance regulation is in full swing. In the course of under a year, the European\\nCommission has launched some of the most important legal proposals to date with respect to harms arising in the\\ndigital economy: the Digital Services Act (DSA) package [2], the Artiﬁcial Intelligence (AI) Act [4], and the regulatory\\npackage relating to political advertising and disinformation [8], to name a few. The Commission’s goals behind cross-\\nsectoral regulation of such sort include the protection of markets and democracies alike [2, 13].\\nThis paper focuses on the DSA and particularly on how it is supposed to facilitate digital enforcement [14, 33]. In', metadata={'Published': '2022-05-13', 'Title': \"The Case for a Legal Compliance API for the Enforcement of the EU's Digital Services Act on Social Media Platforms\", 'Authors': 'Catalina Goanta, Thales Bertaglia, Adriana Iamnitchi', 'Summary': \"In the course of under a year, the European Commission has launched some of\\nthe most important regulatory proposals to date on platform governance. The\\nCommission's goals behind cross-sectoral regulation of this sort include the\\nprotection of markets and democracies alike. While all these acts propose\\nsophisticated rules for setting up new enforcement institutions and procedures,\\none aspect remains highly unclear: how digital enforcement will actually take\\nplace in practice. Focusing on the Digital Services Act (DSA), this discussion\\npaper critically addresses issues around social media data access for the\\npurpose of digital enforcement and proposes the use of a legal compliance\\napplication programming interface (API) as a means to facilitate compliance\\nwith the DSA and complementary European and national regulation. To\\ncontextualize this discussion, the paper pursues two scenarios that exemplify\\nthe harms arising out of content monetization affecting a particularly\\nvulnerable category of social media users: children. The two scenarios are used\\nto further reflect upon essential issues surrounding data access and legal\\ncompliance with the DSA and further applicable legal standards in the field of\\nlabour and consumer law.\"}),\n",
              "  Document(page_content='sectoral regulation of such sort include the protection of markets and democracies alike [2, 13].\\nThis paper focuses on the DSA and particularly on how it is supposed to facilitate digital enforcement [14, 33]. In\\nspite of being a comprehensive proposal that tackles both substantive legal standards and proposes new procedures\\nand institutions, the technical dimension of digital enforcement, namely how the compliance with legal obligations will\\nbe observed in practice, remains underdeveloped. According to the DSA proposal, this will be outsourced to delegated\\nacts (Article 31(5) DSA), which are additional legal standards prepared and adopted by the European Commission,\\naimed to achieve uniformity after consultations with expert groups.\\nPermission to make digital or hard copies of all or part of this work for personal or classroom use is granted without fee provided that copies are not\\nmade or distributed for proﬁt or commercial advantage and that copies bear this notice and the full citation on the ﬁrst page. Copyrights for components\\nof this work owned by others than the author(s) must be honored. Abstracting with credit is permitted. To copy otherwise, or republish, to post on\\nservers or to redistribute to lists, requires prior speciﬁc permission and/or a fee. Request permissions from permissions@acm.org.\\n© 2022 Copyright held by the owner/author(s). Publication rights licensed to ACM.\\nManuscript submitted to ACM\\n1\\nFAccT ’22, June 21–24, 2022, Seoul, Republic of Korea\\nGoanta et al.', metadata={'Published': '2022-05-13', 'Title': \"The Case for a Legal Compliance API for the Enforcement of the EU's Digital Services Act on Social Media Platforms\", 'Authors': 'Catalina Goanta, Thales Bertaglia, Adriana Iamnitchi', 'Summary': \"In the course of under a year, the European Commission has launched some of\\nthe most important regulatory proposals to date on platform governance. The\\nCommission's goals behind cross-sectoral regulation of this sort include the\\nprotection of markets and democracies alike. While all these acts propose\\nsophisticated rules for setting up new enforcement institutions and procedures,\\none aspect remains highly unclear: how digital enforcement will actually take\\nplace in practice. Focusing on the Digital Services Act (DSA), this discussion\\npaper critically addresses issues around social media data access for the\\npurpose of digital enforcement and proposes the use of a legal compliance\\napplication programming interface (API) as a means to facilitate compliance\\nwith the DSA and complementary European and national regulation. To\\ncontextualize this discussion, the paper pursues two scenarios that exemplify\\nthe harms arising out of content monetization affecting a particularly\\nvulnerable category of social media users: children. The two scenarios are used\\nto further reflect upon essential issues surrounding data access and legal\\ncompliance with the DSA and further applicable legal standards in the field of\\nlabour and consumer law.\"}),\n",
              "  Document(page_content='2. Gatekeepers and the DMA\\nThe DMA came into force around the same time as the Dig-\\nital Services Act, which regulates platform accountability\\nand content moderation. Both regulations impose speciﬁc\\nobligations on companies above certain size thresholds, al-\\nbeit framed and described differently. The EU is also about\\nto ﬁnalise its AI Act, which adopts a risk-based approach.\\nIt outright prohibits certain AI applications that bear un-\\nacceptable risks to people’s safety, and introduces trans-\\nparency and accountability rules for high-risk applications.\\nThe DMA targets “gatekeeper” companies, which is\\ndeﬁned under Article 3(1) as an undertaking that: (i) “has\\na signiﬁcant impact on the [EU’s] internal market”,\\n(ii) “provides a core platform service which is an important\\ngateway for business users to reach end-users”, and\\n(iii) “enjoys an entrenched and durable position in its\\noperations, or it is foreseeable that it will enjoy such a\\nposition in the near future.”\\nThe current list of “core platform services” provided in Ar-\\nticle 2(2) covers ten established digital services, such as op-\\nerating systems, web browsers, and social networking. It\\ndoes not explicitly cover generative AI services. In the rest\\nof this paper, we bring forward ways in which generative\\nAI can be provided as a platform service and argue for its', metadata={'Published': '2023-07-07', 'Title': 'AI and the EU Digital Markets Act: Addressing the Risks of Bigness in Generative AI', 'Authors': 'Ayse Gizem Yasar, Andrew Chong, Evan Dong, Thomas Krendl Gilbert, Sarah Hladikova, Roland Maio, Carlos Mougan, Xudong Shen, Shubham Singh, Ana-Andreea Stoica, Savannah Thais, Miri Zilka', 'Summary': \"As AI technology advances rapidly, concerns over the risks of bigness in\\ndigital markets are also growing. The EU's Digital Markets Act (DMA) aims to\\naddress these risks. Still, the current framework may not adequately cover\\ngenerative AI systems that could become gateways for AI-based services. This\\npaper argues for integrating certain AI software as core platform services and\\nclassifying certain developers as gatekeepers under the DMA. We also propose an\\nassessment of gatekeeper obligations to ensure they cover generative AI\\nservices. As the EU considers generative AI-specific rules and possible DMA\\namendments, this paper provides insights towards diversity and openness in\\ngenerative AI services.\"}),\n",
              "  Document(page_content='arXiv:2205.06666v1  [cs.CY]  13 May 2022\\nThe Case for a Legal Compliance API for the Enforcement of the EU’s Digital\\nServices Act on Social Media Platforms\\nCATALINA GOANTA, Utrecht University, The Netherlands\\nTHALES BERTAGLIA and ADRIANA IAMNITCHI, Maastricht University, The Netherlands\\nIn the course of under a year, the European Commission has launched some of the most important regulatory proposals to date on\\nplatform governance. The Commission’s goals behind cross-sectoral regulation of this sort include the protection of markets and\\ndemocracies alike. While all these acts propose sophisticated rules for setting up new enforcement institutions and procedures, one\\naspect remains highly unclear: how digital enforcement will actually take place in practice. Focusing on the Digital Services Act\\n(DSA), this discussion paper critically addresses issues around social media data access for the purpose of digital enforcement and\\nproposes the use of a legal compliance application programming interface (API) as a means to facilitate compliance with the DSA and\\ncomplementary European and national regulation. To contextualize this discussion, the paper pursues two scenarios that exemplify\\nthe harms arising out of content monetization aﬀecting a particularly vulnerable category of social media users: children. The two\\nscenarios are used to further reﬂect upon essential issues surrounding data access and legal compliance with the DSA and further\\napplicable legal standards in the ﬁeld of labour and consumer law.\\nCCS Concepts: • Social and professional topics →Governmental regulations.', metadata={'Published': '2022-05-13', 'Title': \"The Case for a Legal Compliance API for the Enforcement of the EU's Digital Services Act on Social Media Platforms\", 'Authors': 'Catalina Goanta, Thales Bertaglia, Adriana Iamnitchi', 'Summary': \"In the course of under a year, the European Commission has launched some of\\nthe most important regulatory proposals to date on platform governance. The\\nCommission's goals behind cross-sectoral regulation of this sort include the\\nprotection of markets and democracies alike. While all these acts propose\\nsophisticated rules for setting up new enforcement institutions and procedures,\\none aspect remains highly unclear: how digital enforcement will actually take\\nplace in practice. Focusing on the Digital Services Act (DSA), this discussion\\npaper critically addresses issues around social media data access for the\\npurpose of digital enforcement and proposes the use of a legal compliance\\napplication programming interface (API) as a means to facilitate compliance\\nwith the DSA and complementary European and national regulation. To\\ncontextualize this discussion, the paper pursues two scenarios that exemplify\\nthe harms arising out of content monetization affecting a particularly\\nvulnerable category of social media users: children. The two scenarios are used\\nto further reflect upon essential issues surrounding data access and legal\\ncompliance with the DSA and further applicable legal standards in the field of\\nlabour and consumer law.\"})]}"
            ]
          },
          "metadata": {},
          "execution_count": 66
        }
      ]
    },
    {
      "cell_type": "markdown",
      "source": [
        "## DSA RAG Application using LangGraph Tools\n",
        "DSA RAG application allows a user to ask a question and receive an answer about the DSA .\n",
        "\n",
        "LangGraph is a tool that leverages LangChain Expression Language to build coordinated multi-actor and stateful applications that includes cyclic behaviour.\n",
        "\n",
        "This notebook uses the Arxiv and the Duck Duck Go Web Search tools."
      ],
      "metadata": {
        "id": "e7pQDUhUnIo8"
      }
    },
    {
      "cell_type": "markdown",
      "source": [
        "##  Creating the Tool Belt\n",
        "\n",
        "Installing the agent with a toolbelt to help answer questions and add external knowledge with Arxiv and the Duck Duck Go Web Search tools."
      ],
      "metadata": {
        "id": "sBRyQmEAVzua"
      }
    },
    {
      "cell_type": "code",
      "source": [
        "from langchain_community.tools.ddg_search import DuckDuckGoSearchRun\n",
        "from langchain_community.tools.arxiv.tool import ArxivQueryRun\n",
        "\n",
        "tool_belt = [\n",
        "    DuckDuckGoSearchRun(),\n",
        "    ArxivQueryRun()\n",
        "]"
      ],
      "metadata": {
        "id": "lAxaSvlfIeOg"
      },
      "execution_count": null,
      "outputs": []
    },
    {
      "cell_type": "markdown",
      "source": [
        "### Actioning with Tools\n",
        "\n",
        "Setting up the ToolExecutor to run the process."
      ],
      "metadata": {
        "id": "1FdOjEslXdRR"
      }
    },
    {
      "cell_type": "code",
      "source": [
        "from langgraph.prebuilt import ToolExecutor\n",
        "\n",
        "tool_executor = ToolExecutor(tool_belt)"
      ],
      "metadata": {
        "id": "cFr1m80-JZsD"
      },
      "execution_count": null,
      "outputs": []
    },
    {
      "cell_type": "markdown",
      "source": [
        "### Model\n",
        "\n",
        "Setting up the OpenAI model."
      ],
      "metadata": {
        "id": "VI-C669ZYVI5"
      }
    },
    {
      "cell_type": "code",
      "source": [
        "from langchain_openai import ChatOpenAI\n",
        "\n",
        "model = ChatOpenAI(temperature=0)"
      ],
      "metadata": {
        "id": "QkNS8rNZJs4z"
      },
      "execution_count": null,
      "outputs": []
    },
    {
      "cell_type": "markdown",
      "source": [
        "Binding the LangChain formatted tools to the model in an OpenAI function calling format."
      ],
      "metadata": {
        "id": "Ugkj3GzuZpQv"
      }
    },
    {
      "cell_type": "code",
      "source": [
        "from langchain_core.utils.function_calling import convert_to_openai_function\n",
        "\n",
        "functions = [convert_to_openai_function(t) for t in tool_belt]\n",
        "model = model.bind_functions(functions)"
      ],
      "metadata": {
        "id": "4OdMqFafZ_0V"
      },
      "execution_count": null,
      "outputs": []
    },
    {
      "cell_type": "markdown",
      "source": [
        "## Agent State\n",
        "\n",
        "`coordinated multi-actor and stateful applications`\n",
        "\n",
        "\"stateful\" means that we want to have some kind of object which we can pass around our application that holds information about what the current situation (state) is. Since our system will be constructed of many parts moving in a coordinated fashion, we want to be able to ensure that we have some commonly understood idea of that state.\n",
        "\n",
        "LangGraph leverages a `StatefulGraph` which uses an `AgentState` object to pass information between the various nodes of the graph.\n",
        "\n",
        "This `AgentState` object is stored in a `TypedDict` with the key `messages` and the value is a `Sequence` of `BaseMessages` that will be appended to whenever the state changes.\n",
        "\n",
        "Let's think about a simple example to help understand exactly what this means:\n",
        "\n",
        "1. We initialize our state object:\n",
        "  - `{\"messages\" : []}`\n",
        "2. Our user submits a query to our application.\n",
        "  - New State: `HumanMessage(#1)`\n",
        "  - `{\"messages\" : [HumanMessage(#1)}`\n",
        "3. We pass our state object to an Agent node which is able to read the current state. It will use the last `HumanMessage` as input. It gets some kind of output which it will add to the state.\n",
        "  - New State: `AgentMessage(#1, additional_kwargs {\"function_call\" : \"WebSearchTool\"})`\n",
        "  - `{\"messages\" : [HumanMessage(#1), AgentMessage(#1, ...)]}`\n",
        "4. We pass our state object to a \"conditional node\" which reads the last state to determine if we need to use a tool - which it can determine properly because of our provided object"
      ],
      "metadata": {
        "id": "_296Ub96Z_H8"
      }
    },
    {
      "cell_type": "code",
      "source": [
        "from typing import TypedDict, Annotated, Sequence\n",
        "import operator\n",
        "from langchain_core.messages import BaseMessage\n",
        "\n",
        "class AgentState(TypedDict):\n",
        "  messages: Annotated[Sequence[BaseMessage], operator.add]"
      ],
      "metadata": {
        "id": "mxL9b_NZKUdL"
      },
      "execution_count": null,
      "outputs": []
    },
    {
      "cell_type": "markdown",
      "source": [
        "## Graph Setup\n",
        "\n",
        "Setting up the graph (nodes and edges) with the state, the tools and the LLM previously defined."
      ],
      "metadata": {
        "id": "hRDOpna-u2CB"
      }
    },
    {
      "cell_type": "code",
      "source": [
        "from langgraph.prebuilt import ToolInvocation\n",
        "import json\n",
        "from langchain_core.messages import FunctionMessage\n",
        "\n",
        "def call_model(state):\n",
        "  messages = state[\"messages\"]\n",
        "  response = model.invoke(messages)\n",
        "  return {\"messages\" : [response]}\n",
        "\n",
        "def call_tool(state):\n",
        "  last_message = state[\"messages\"][-1]\n",
        "\n",
        "  action = ToolInvocation(\n",
        "      tool=last_message.additional_kwargs[\"function_call\"][\"name\"],\n",
        "      tool_input=json.loads(\n",
        "          last_message.additional_kwargs[\"function_call\"][\"arguments\"]\n",
        "      )\n",
        "  )\n",
        "\n",
        "  response = tool_executor.invoke(action)\n",
        "\n",
        "  function_message = FunctionMessage(content=str(response), name=action.tool)\n",
        "\n",
        "  return {\"messages\" : [function_message]}"
      ],
      "metadata": {
        "id": "91flJWtZLUrl"
      },
      "execution_count": null,
      "outputs": []
    },
    {
      "cell_type": "markdown",
      "source": [
        "Defining 2 nodes:\n",
        "\n",
        "- `call_model` is a node that calls the model\n",
        "- `call_tool` is a node which calls a tool\n"
      ],
      "metadata": {
        "id": "2bwR7MgWj3Wg"
      }
    },
    {
      "cell_type": "code",
      "source": [
        "from langgraph.graph import StateGraph, END\n",
        "\n",
        "workflow = StateGraph(AgentState)\n",
        "\n",
        "workflow.add_node(\"agent\", call_model)\n",
        "workflow.add_node(\"action\", call_tool)"
      ],
      "metadata": {
        "id": "_vF4_lgtmQNo"
      },
      "execution_count": null,
      "outputs": []
    },
    {
      "cell_type": "markdown",
      "source": [
        "Adding the entrypoint."
      ],
      "metadata": {
        "id": "uaXHpPeSnOWC"
      }
    },
    {
      "cell_type": "code",
      "source": [
        "workflow.set_entry_point(\"agent\")"
      ],
      "metadata": {
        "id": "YGCbaYqRnmiw"
      },
      "execution_count": null,
      "outputs": []
    },
    {
      "cell_type": "markdown",
      "source": [
        "Setting up a \"conditional edge\" which will use the output state of a node to determine which path to follow.\n",
        "\n",
        "Creating an edge where the origin node is the agent node and the destination node can be either the action node or the END (finish the graph).\n",
        "\n",
        "The dictionary passed in as the third parameter (the mapping) should be created with the possible outputs of our conditional function in mind. In this case should_continue outputs either \"end\" or \"continue\" which are subsequently mapped to the action node or the END node."
      ],
      "metadata": {
        "id": "0Q_pQgHmoW0M"
      }
    },
    {
      "cell_type": "code",
      "source": [
        "def should_continue(state):\n",
        "  last_message = state[\"messages\"][-1]\n",
        "\n",
        "  if \"function_call\" not in last_message.additional_kwargs:\n",
        "    return \"end\"\n",
        "\n",
        "  return \"continue\"\n",
        "\n",
        "workflow.add_conditional_edges(\n",
        "    \"agent\",\n",
        "    should_continue,\n",
        "    {\n",
        "        \"continue\" : \"action\",\n",
        "        \"end\" : END\n",
        "    }\n",
        ")"
      ],
      "metadata": {
        "id": "1BZgb81VQf9o"
      },
      "execution_count": null,
      "outputs": []
    },
    {
      "cell_type": "markdown",
      "source": [
        "Adding the edge which connects the action node to the agent node closing the loop or cycle."
      ],
      "metadata": {
        "id": "yKCjWJCkrJb9"
      }
    },
    {
      "cell_type": "code",
      "source": [
        "workflow.add_edge(\"action\", \"agent\")"
      ],
      "metadata": {
        "id": "UvcgbHf1rIXZ"
      },
      "execution_count": null,
      "outputs": []
    },
    {
      "cell_type": "markdown",
      "source": [
        "Compiling the workflow."
      ],
      "metadata": {
        "id": "KYqDpErlsCsu"
      }
    },
    {
      "cell_type": "code",
      "source": [
        "app = workflow.compile()"
      ],
      "metadata": {
        "id": "zt9-KS8DpzNx"
      },
      "execution_count": null,
      "outputs": []
    },
    {
      "cell_type": "markdown",
      "source": [
        "## Using the Graph and Testing\n",
        "\n",
        "Testing the graph with a question that will trigger the wikidata tool."
      ],
      "metadata": {
        "id": "VEYcTShCsPaa"
      }
    },
    {
      "cell_type": "code",
      "source": [
        "from langchain_core.messages import HumanMessage\n",
        "\n",
        "inputs = {\"messages\" : [HumanMessage(content=\"What companies do the Digital Services Act apply to? Provide their names. When does it apply to them?\")]}\n",
        "\n",
        "app.invoke(inputs)"
      ],
      "metadata": {
        "colab": {
          "base_uri": "https://localhost:8080/"
        },
        "id": "Qn4n37PQRPII",
        "outputId": "8d7cdc6f-f355-4a58-fb02-141e3dee7757"
      },
      "execution_count": null,
      "outputs": [
        {
          "output_type": "execute_result",
          "data": {
            "text/plain": [
              "{'messages': [HumanMessage(content='What companies do the Digital Services Act apply to? Provide their names. When does it apply to them?'),\n",
              "  AIMessage(content='The Digital Services Act (DSA) applies to a wide range of companies that provide digital services in the European Union. Some of the key companies that the DSA applies to include:\\n\\n1. Social media platforms\\n2. Online marketplaces\\n3. Search engines\\n4. Cloud services\\n5. App stores\\n\\nThe DSA aims to regulate these companies and hold them accountable for the content and services they provide online. It sets out rules and obligations for these companies to ensure a safer online environment for users.\\n\\nThe DSA is expected to come into effect in late 2022 or early 2023. Once it is in effect, companies that fall under its scope will need to comply with the regulations outlined in the DSA.', response_metadata={'token_usage': {'completion_tokens': 148, 'prompt_tokens': 172, 'total_tokens': 320}, 'model_name': 'gpt-3.5-turbo', 'system_fingerprint': 'fp_3bc1b5746c', 'finish_reason': 'stop', 'logprobs': None})]}"
            ]
          },
          "metadata": {},
          "execution_count": 78
        }
      ]
    },
    {
      "cell_type": "markdown",
      "source": [
        "Let's look at what happened:\n",
        "\n",
        "1. Our state object was populated with our request\n",
        "2. The state object was passed into our entry point (agent node) and the agent node added an `AIMessage` to the state object and passed it along the conditional edge\n",
        "3. The conditional edge received the state object, found the \"function_call\" `additional_kwarg`, and sent the state object to the action node\n",
        "4. The action node added the response from the OpenAI function calling endpoint to the state object and passed it along the edge to the agent node\n",
        "5. The agent node added a response to the state object and passed it along the conditional edge\n",
        "6. The conditional edge received the state object, could not find the \"function_call\" `additional_kwarg` and passed the state object to END where we see it output in the cell above!\n"
      ],
      "metadata": {
        "id": "DBHnUtLSscRr"
      }
    },
    {
      "cell_type": "markdown",
      "source": [
        "## Agentic RAG with LangGraph and LCEL\n",
        "\n",
        "Creating our final agent.\n",
        "\n",
        "Adding the RAG chain as a node.\n",
        "\n",
        "Adding some pre/post processing steps."
      ],
      "metadata": {
        "id": "T5y63oGVw4yU"
      }
    },
    {
      "cell_type": "code",
      "source": [
        "def convert_state_to_query(state_object):\n",
        "  return {\"question\" : state_object[\"messages\"][-1].content}\n",
        "\n",
        "def convert_response_to_state(response):\n",
        "  return {\"messages\" : [response[\"response\"]]}\n",
        "\n",
        "langgraph_node_rag_chain = convert_state_to_query | retrieval_augmented_generation_chain | convert_response_to_state"
      ],
      "metadata": {
        "id": "MlCwP-iXojru"
      },
      "execution_count": null,
      "outputs": []
    },
    {
      "cell_type": "markdown",
      "source": [
        "Testing the new chain."
      ],
      "metadata": {
        "id": "LTXZtCgouJ2z"
      }
    },
    {
      "cell_type": "code",
      "source": [
        "await langgraph_node_rag_chain.ainvoke(inputs)"
      ],
      "metadata": {
        "colab": {
          "base_uri": "https://localhost:8080/"
        },
        "id": "2ku8Vk0krNU_",
        "outputId": "48cef0b7-ee1f-4a48-91f8-ae06c5dceb2b"
      },
      "execution_count": null,
      "outputs": [
        {
          "output_type": "execute_result",
          "data": {
            "text/plain": [
              "{'messages': [AIMessage(content='The Digital Services Act applies to companies that meet certain size thresholds and provide core platform services, such as operating systems, web browsers, and social networking services. It imposes specific obligations on these companies related to platform accountability and content moderation. The Act aims to establish a new legal regime for platform liability and transparency with respect to illegal content. It focuses on compliance with Union law or the law of a Member State, irrespective of the specific subject matter or nature of that law.', response_metadata={'token_usage': {'completion_tokens': 93, 'prompt_tokens': 2551, 'total_tokens': 2644}, 'model_name': 'gpt-3.5-turbo', 'system_fingerprint': 'fp_3bc1b5746c', 'finish_reason': 'stop', 'logprobs': None})]}"
            ]
          },
          "metadata": {},
          "execution_count": 80
        }
      ]
    },
    {
      "cell_type": "markdown",
      "source": [
        "Adding the nodes including the newly built LCEL component as a node called `first_action`.\n",
        "\n",
        "Using the private RAG set-up: if  deemed sufficient, it will return that response to the user; and if not it will augment the response with the other tools."
      ],
      "metadata": {
        "id": "uqz0HD_-uVLq"
      }
    },
    {
      "cell_type": "code",
      "source": [
        "rag_agent = StateGraph(AgentState)\n",
        "\n",
        "rag_agent.add_node(\"agent\", call_model)\n",
        "rag_agent.add_node(\"action\", call_tool)\n",
        "rag_agent.add_node(\"first_action\", langgraph_node_rag_chain)"
      ],
      "metadata": {
        "id": "RvMuxumArtT7"
      },
      "execution_count": null,
      "outputs": []
    },
    {
      "cell_type": "markdown",
      "source": [
        "Setting up the new entry point to be the RAG pipeline."
      ],
      "metadata": {
        "id": "IaxHeBtsz-JF"
      }
    },
    {
      "cell_type": "code",
      "source": [
        "rag_agent.set_entry_point(\"first_action\")"
      ],
      "metadata": {
        "id": "UpHI3VhDr72t"
      },
      "execution_count": null,
      "outputs": []
    },
    {
      "cell_type": "markdown",
      "source": [
        "Adding a conditional node (\"is the question fully answered by the RAG pipeline?\" - Yes or No).\n",
        "\n",
        "\n",
        "It asks the following question: \"Is this question fully answered by the response?\"\n",
        "\n",
        "It answers the following \"Yes, it is fully answered\", or \"No, it is not fully answered\".\n",
        "\n",
        "This is implemented in the function below using Pydantic and GPT-4.\n",
        "\n"
      ],
      "metadata": {
        "id": "b-GFjQen0BeH"
      }
    },
    {
      "cell_type": "code",
      "source": [
        "from langchain.prompts import PromptTemplate\n",
        "from langchain_core.pydantic_v1 import BaseModel, Field\n",
        "from langchain.output_parsers.openai_tools import PydanticToolsParser\n",
        "from langchain_core.utils.function_calling import convert_to_openai_tool\n",
        "\n",
        "def is_fully_answered(state):\n",
        "\n",
        "  ### Extract the question and response from the RAG pipeline\n",
        "  question = state[\"messages\"][0].content\n",
        "  answer = state[\"messages\"][-1].content\n",
        "\n",
        "  ### Create a Pydantic model to capture the LLMs response\n",
        "  class answered(BaseModel):\n",
        "    binary_score: str = Field(description=\"Fully answered: 'yes' or 'no'\")\n",
        "\n",
        "  ### The reasoning model will ensure it can answer our question properly\n",
        "  model = ChatOpenAI(model=\"gpt-4-turbo-preview\", temperature=0)\n",
        "\n",
        "  ### Create and bind the tool to the model\n",
        "  answered_tool = convert_to_openai_tool(answered)\n",
        "\n",
        "  model = model.bind(\n",
        "      tools=[answered_tool],\n",
        "      tool_choice={\"type\" : \"function\", \"function\" : {\"name\" : \"answered\"}}\n",
        "  )\n",
        "\n",
        "  ### Parse the output into a usable format\n",
        "  parser_tool = PydanticToolsParser(tools=[answered])\n",
        "\n",
        "  prompt = PromptTemplate(\n",
        "      template=\"\"\"You will determine if the question is fully answered by the response.\\n\n",
        "      Question:\n",
        "      {question}\n",
        "\n",
        "      Response:\n",
        "      {answer}\n",
        "\n",
        "      You will respond with either 'yes' or 'no'.\"\"\",\n",
        "      input_variables=[\"question\", \"answer\"])\n",
        "\n",
        "  ### LCEL chain\n",
        "  fully_answered_chain = prompt | model | parser_tool\n",
        "\n",
        "  response = fully_answered_chain.invoke({\"question\" : question, \"answer\" : answer})\n",
        "\n",
        "  if response[0].binary_score == \"no\":\n",
        "    return \"continue\"\n",
        "\n",
        "  return \"end\""
      ],
      "metadata": {
        "id": "Z-QZVNURvDTe"
      },
      "execution_count": null,
      "outputs": []
    },
    {
      "cell_type": "markdown",
      "source": [
        "Adding the conditional edge."
      ],
      "metadata": {
        "id": "OeG_LWxn1PJJ"
      }
    },
    {
      "cell_type": "code",
      "source": [
        "rag_agent.add_conditional_edges(\n",
        "    \"first_action\",\n",
        "    is_fully_answered,\n",
        "    {\n",
        "        \"continue\" : \"agent\",\n",
        "        \"end\" : END\n",
        "    }\n",
        ")"
      ],
      "metadata": {
        "id": "R83jwrx8xKVf"
      },
      "execution_count": null,
      "outputs": []
    },
    {
      "cell_type": "markdown",
      "source": [
        "Using the original prompt to determine if more tools are needed."
      ],
      "metadata": {
        "id": "EFyVeahl1fdj"
      }
    },
    {
      "cell_type": "code",
      "source": [
        "def should_continue(state):\n",
        "  last_message = state[\"messages\"][-1]\n",
        "\n",
        "  if \"function_call\" not in last_message.additional_kwargs:\n",
        "    return \"end\"\n",
        "\n",
        "  return \"continue\"\n",
        "\n",
        "rag_agent.add_conditional_edges(\n",
        "    \"agent\",\n",
        "    should_continue,\n",
        "    {\n",
        "        \"continue\" : \"action\",\n",
        "        \"end\" : END\n",
        "    }\n",
        ")"
      ],
      "metadata": {
        "id": "WD8wC2W6r_tb"
      },
      "execution_count": null,
      "outputs": []
    },
    {
      "cell_type": "markdown",
      "source": [
        "Defining the final edge."
      ],
      "metadata": {
        "id": "J1BR2VMW1k7E"
      }
    },
    {
      "cell_type": "code",
      "source": [
        "rag_agent.add_edge(\"action\", \"agent\")"
      ],
      "metadata": {
        "id": "qvQzFbtJsDrE"
      },
      "execution_count": null,
      "outputs": []
    },
    {
      "cell_type": "markdown",
      "source": [
        " Compiling the rag agent."
      ],
      "metadata": {
        "id": "f_8ZHvch1mqB"
      }
    },
    {
      "cell_type": "code",
      "source": [
        "rag_agent_app = rag_agent.compile()"
      ],
      "metadata": {
        "id": "Bgho8n0QsO_s"
      },
      "execution_count": null,
      "outputs": []
    },
    {
      "cell_type": "markdown",
      "source": [
        "Testing the RAG agent app."
      ],
      "metadata": {
        "id": "Lu069aIF1pAU"
      }
    },
    {
      "cell_type": "code",
      "source": [
        "question = \"What is the EU Digital Services Act?\"\n",
        "\n",
        "inputs = {\"messages\" : [HumanMessage(content=question)]}\n",
        "\n",
        "rag_agent_app.invoke(inputs)"
      ],
      "metadata": {
        "colab": {
          "base_uri": "https://localhost:8080/"
        },
        "id": "sItf-jgY1rMU",
        "outputId": "9501f897-363c-481f-e1cb-aac2f4bdc477"
      },
      "execution_count": null,
      "outputs": [
        {
          "output_type": "execute_result",
          "data": {
            "text/plain": [
              "{'messages': [HumanMessage(content='What is the EU Digital Services Act?'),\n",
              "  AIMessage(content='The EU Digital Services Act (DSA) is a regulatory proposal launched by the European Commission to address harms in the digital economy. It aims to facilitate digital enforcement and compliance with legal obligations on social media platforms.', response_metadata={'token_usage': {'completion_tokens': 41, 'prompt_tokens': 2600, 'total_tokens': 2641}, 'model_name': 'gpt-3.5-turbo', 'system_fingerprint': 'fp_3bc1b5746c', 'finish_reason': 'stop', 'logprobs': None})]}"
            ]
          },
          "metadata": {},
          "execution_count": 93
        }
      ]
    },
    {
      "cell_type": "markdown",
      "source": [
        "Testing with another example."
      ],
      "metadata": {
        "id": "MHj-i2Cc1uud"
      }
    },
    {
      "cell_type": "code",
      "source": [
        "question = \"How does the Digital Services Act regulate misinformation?\"\n",
        "\n",
        "inputs = {\"messages\" : [HumanMessage(content=question)]}\n",
        "\n",
        "rag_agent_app.invoke(inputs)"
      ],
      "metadata": {
        "colab": {
          "base_uri": "https://localhost:8080/"
        },
        "id": "RzQY4SSvsSE1",
        "outputId": "267ffda8-9ea5-4cd6-80e2-a0af71f880d2"
      },
      "execution_count": null,
      "outputs": [
        {
          "output_type": "execute_result",
          "data": {
            "text/plain": [
              "{'messages': [HumanMessage(content='How does the Digital Services Act regulate misinformation?'),\n",
              "  AIMessage(content='The Digital Services Act (DSA) aims to establish a new legal regime for platform liability and transparency with respect to illegal content. It defines illegal content as any information that is not in compliance with Union law or the law of a Member State, irrespective of the precise subject matter or nature of that law. The DSA focuses on transparency in compliance and digital monitoring with new procedural obligations to regulate content posted online, including misinformation.', response_metadata={'token_usage': {'completion_tokens': 84, 'prompt_tokens': 2502, 'total_tokens': 2586}, 'model_name': 'gpt-3.5-turbo', 'system_fingerprint': 'fp_3bc1b5746c', 'finish_reason': 'stop', 'logprobs': None})]}"
            ]
          },
          "metadata": {},
          "execution_count": 95
        }
      ]
    }
  ]
}